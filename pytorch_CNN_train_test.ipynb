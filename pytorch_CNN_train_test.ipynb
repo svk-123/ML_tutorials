{
 "cells": [
  {
   "cell_type": "markdown",
   "id": "fbcf8a80-7677-44a1-b301-536f1fa2e987",
   "metadata": {},
   "source": [
    "##### PyTorch 2.4.1\n"
   ]
  },
  {
   "cell_type": "code",
   "execution_count": 29,
   "id": "f4afe20f-d183-4f95-bac2-bea33520ab2c",
   "metadata": {},
   "outputs": [],
   "source": [
    "import numpy as np\n",
    "import matplotlib.pyplot as plt\n",
    "import torch\n",
    "import torchvision\n",
    "import torch.nn as nn\n",
    "import torch.nn.functional as F\n",
    "import torchvision.transforms as transforms\n",
    "\n",
    "import warnings\n",
    "warnings.filterwarnings('ignore')"
   ]
  },
  {
   "cell_type": "code",
   "execution_count": 18,
   "id": "3788e40f-7659-4f16-b4e4-2e4c21950a28",
   "metadata": {},
   "outputs": [
    {
     "name": "stdout",
     "output_type": "stream",
     "text": [
      "Files already downloaded and verified\n",
      "Files already downloaded and verified\n"
     ]
    }
   ],
   "source": [
    "# The mean and std are kept as 0.5 for normalizing \n",
    "# pixel values as the pixel values are originally \n",
    "# in the range 0 to 1\n",
    "train_transform = transforms.Compose(\n",
    "    [transforms.RandomHorizontalFlip(),\n",
    "     transforms.RandomCrop(32, 4),\n",
    "     transforms.ToTensor(),\n",
    "     transforms.Normalize((0.5, 0.5, 0.5), \n",
    "                          (0.5, 0.5, 0.5))])\n",
    "trainset = torchvision.datasets.CIFAR10(root='./data', \n",
    "    train=True, download=True, transform=train_transform)\n",
    "trainloader = torch.utils.data.DataLoader(trainset, \n",
    "    batch_size=8, shuffle=True)\n",
    "test_transform = transforms.Compose([transforms.ToTensor(), \n",
    "    transforms.Normalize((0.5, 0.5, 0.5), \n",
    "                         (0.5, 0.5, 0.5))])\n",
    "testset = torchvision.datasets.CIFAR10(root='./data', \n",
    "    train=False, download=True, transform=test_transform)\n",
    "testloader = torch.utils.data.DataLoader(testset, \n",
    "    batch_size=10000, shuffle=False)\n",
    "# ordering is important\n",
    "classes = ('plane', 'car', 'bird', 'cat', 'deer', 'dog', \n",
    "           'frog', 'horse', 'ship', 'truck')"
   ]
  },
  {
   "cell_type": "code",
   "execution_count": 19,
   "id": "c321f9cd-5795-4467-9f73-a964e7fba1b2",
   "metadata": {},
   "outputs": [
    {
     "data": {
      "image/png": "[encoded data removed]",
      "text/plain": [
       "<Figure size 640x480 with 1 Axes>"
      ]
     },
     "metadata": {},
     "output_type": "display_data"
    },
    {
     "name": "stdout",
     "output_type": "stream",
     "text": [
      "    horse  ||  frog  ||  horse  ||  horse\n"
     ]
    }
   ],
   "source": [
    "# define a function that displays an image\n",
    "def imageshow(image):\n",
    "    # un-normalize the image\n",
    "    image = image/2 + 0.5\n",
    "    npimage = image.numpy()\n",
    "    plt.imshow(np.transpose(npimage, (1, 2, 0)))\n",
    "    plt.show()\n",
    "# sample images from training set\n",
    "dataiter = iter(trainloader)\n",
    "images, labels = next(dataiter)\n",
    "# display images in a grid\n",
    "num_images = 4\n",
    "imageshow(torchvision.utils.make_grid(images[:num_images]))\n",
    "# print labels\n",
    "print('    '+'  ||  '.join(classes[labels[j]] \n",
    "                           for j in range(num_images)))"
   ]
  },
  {
   "cell_type": "code",
   "execution_count": 20,
   "id": "0e5be82d-411d-4d19-b1a0-738a85e351c8",
   "metadata": {},
   "outputs": [
    {
     "name": "stdout",
     "output_type": "stream",
     "text": [
      "LeNet(\n",
      "  (cn1): Conv2d(3, 6, kernel_size=(5, 5), stride=(1, 1))\n",
      "  (cn2): Conv2d(6, 16, kernel_size=(5, 5), stride=(1, 1))\n",
      "  (fc1): Linear(in_features=400, out_features=120, bias=True)\n",
      "  (fc2): Linear(in_features=120, out_features=84, bias=True)\n",
      "  (fc3): Linear(in_features=84, out_features=10, bias=True)\n",
      ")\n"
     ]
    }
   ],
   "source": [
    "class LeNet(nn.Module):\n",
    "    def __init__(self):\n",
    "        super(LeNet, self).__init__()\n",
    "        # 3 input image channel, 6 output \n",
    "        # feature maps and 5x5 conv kernel\n",
    "        self.cn1 = nn.Conv2d(3, 6, 5)\n",
    "        # 6 input image channel, 16 output \n",
    "        # feature maps and 5x5 conv kernel\n",
    "        self.cn2 = nn.Conv2d(6, 16, 5)\n",
    "        # fully connected layers of size 120, 84 and 10\n",
    "        # 5*5 is the spatial dimension at this layer\n",
    "        self.fc1 = nn.Linear(16 * 5 * 5, 120) \n",
    "        self.fc2 = nn.Linear(120, 84)\n",
    "        self.fc3 = nn.Linear(84, 10)\n",
    "        \n",
    "    def forward(self, x):\n",
    "        # Convolution with 5x5 kernel\n",
    "        x = F.relu(self.cn1(x))\n",
    "        # Max pooling over a (2, 2) window\n",
    "        x = F.max_pool2d(x, (2, 2))\n",
    "        # Convolution with 5x5 kernel\n",
    "        x = F.relu(self.cn2(x))\n",
    "        # Max pooling over a (2, 2) window\n",
    "        x = F.max_pool2d(x, (2, 2))\n",
    "        # Flatten spatial and depth dimensions \n",
    "        # into a single vector\n",
    "        x = x.view(-1, self.flattened_features(x))\n",
    "        # Fully connected operations\n",
    "        x = F.relu(self.fc1(x))\n",
    "        x = F.relu(self.fc2(x))\n",
    "        x = self.fc3(x)\n",
    "        return x\n",
    "\n",
    "    def flattened_features(self, x):\n",
    "        # all except the first (batch) dimension\n",
    "        size = x.size()[1:]  \n",
    "        num_feats = 1\n",
    "        for s in size:\n",
    "            num_feats *= s\n",
    "        return num_feats\n",
    "lenet = LeNet()\n",
    "print(lenet)"
   ]
  },
  {
   "cell_type": "code",
   "execution_count": 21,
   "id": "7470c99d-43f5-46e6-bb5b-8d88c923eff5",
   "metadata": {},
   "outputs": [],
   "source": [
    "def train(net, trainloader, optim, epoch):\n",
    "    # initialize loss\n",
    "    loss_total = 0.0\n",
    "    for i, data in enumerate(trainloader, 0):\n",
    "        # get the inputs; data is a list of [inputs, labels]\n",
    "        # ip refers to the input images, and ground_truth \n",
    "        # refers to the output classes the images belong to\n",
    "        ip, ground_truth = data\n",
    "        # zero the parameter gradients\n",
    "        optim.zero_grad()\n",
    "        # forward-pass + backward-pass + optimization -step\n",
    "        op = net(ip)\n",
    "        loss = nn.CrossEntropyLoss()(op, ground_truth)\n",
    "        loss.backward()\n",
    "        optim.step()\n",
    "        # update loss\n",
    "        loss_total += loss.item()\n",
    "        # print loss statistics\n",
    "        if (i+1) % 1000 == 0:\n",
    "            # print at the interval of 1000 mini-batches\n",
    "            print('[Epoch number : %d, Mini-batches: %5d] \\\n",
    "                  loss: %.3f' % (epoch + 1, i + 1, \n",
    "                                 loss_total / 200))\n",
    "            loss_total = 0.0"
   ]
  },
  {
   "cell_type": "code",
   "execution_count": 22,
   "id": "6199ff00-279e-4193-b5b5-b4e0543a2422",
   "metadata": {},
   "outputs": [],
   "source": [
    "def test(net, testloader):\n",
    "    success = 0\n",
    "    counter = 0\n",
    "    with torch.no_grad():\n",
    "        for data in testloader:\n",
    "            im, ground_truth = data\n",
    "            op = net(im)\n",
    "            _, pred = torch.max(op.data, 1)\n",
    "            counter += ground_truth.size(0)\n",
    "            success += (pred == ground_truth).sum().item()\n",
    "    print('LeNet accuracy on 10000 images from test dataset: %d %%'\\\n",
    "        % (100 * success / counter))"
   ]
  },
  {
   "cell_type": "code",
   "execution_count": 23,
   "id": "204631e0-52e7-45cf-9694-21e04568e900",
   "metadata": {},
   "outputs": [
    {
     "name": "stdout",
     "output_type": "stream",
     "text": [
      "[Epoch number : 1, Mini-batches:  1000]                   loss: 9.790\n",
      "[Epoch number : 1, Mini-batches:  2000]                   loss: 8.852\n",
      "[Epoch number : 1, Mini-batches:  3000]                   loss: 8.398\n",
      "[Epoch number : 1, Mini-batches:  4000]                   loss: 8.122\n",
      "[Epoch number : 1, Mini-batches:  5000]                   loss: 7.906\n",
      "[Epoch number : 1, Mini-batches:  6000]                   loss: 7.631\n",
      "\n",
      "LeNet accuracy on 10000 images from test dataset: 49 %\n",
      "\n",
      "Finished Training\n"
     ]
    }
   ],
   "source": [
    "# define optimizer\n",
    "optim = torch.optim.Adam(lenet.parameters(), lr=0.001)\n",
    "# training loop over the dataset multiple times\n",
    "for epoch in range(1):  \n",
    "    train(lenet, trainloader, optim, epoch)\n",
    "    print()\n",
    "    test(lenet, testloader)\n",
    "    print()\n",
    "print('Finished Training')"
   ]
  },
  {
   "cell_type": "code",
   "execution_count": 24,
   "id": "65131d25-e26f-4d10-a922-295f9e8cf8f8",
   "metadata": {},
   "outputs": [],
   "source": [
    "#save trained model:\n",
    "model_path = './model/cifar_model.pth'\n",
    "torch.save(lenet.state_dict(), model_path)"
   ]
  },
  {
   "cell_type": "code",
   "execution_count": 30,
   "id": "7c211a3b-858d-435c-b9f3-ba5fae790856",
   "metadata": {},
   "outputs": [
    {
     "data": {
      "image/png": "[encoded data removed]",
      "text/plain": [
       "<Figure size 640x480 with 1 Axes>"
      ]
     },
     "metadata": {},
     "output_type": "display_data"
    },
    {
     "name": "stdout",
     "output_type": "stream",
     "text": [
      "Label:         cat  ship  ship plane\n",
      "Prediction:    cat   car  ship plane\n"
     ]
    }
   ],
   "source": [
    "# load test dataset images\n",
    "d_iter = iter(testloader)\n",
    "im, ground_truth = next(d_iter)\n",
    "# print images and ground truth\n",
    "imageshow(torchvision.utils.make_grid(im[:4]))\n",
    "print('Label:      ', ' '.join('%5s' % \n",
    "                               classes[ground_truth[j]] \n",
    "                               for j in range(4)))\n",
    "# load model\n",
    "lenet_cached = LeNet()\n",
    "lenet_cached.load_state_dict(torch.load(model_path))\n",
    "# model inference\n",
    "op = lenet_cached(im)\n",
    "# print predictions\n",
    "_, pred = torch.max(op, 1)\n",
    "print('Prediction: ', ' '.join('%5s' % classes[pred[j]] \n",
    "                               for j in range(4)))\n"
   ]
  },
  {
   "cell_type": "code",
   "execution_count": 32,
   "id": "5fad32a8-3ae3-4b10-a913-ed0abf76c226",
   "metadata": {},
   "outputs": [
    {
     "name": "stdout",
     "output_type": "stream",
     "text": [
      "Model accuracy on 10000 images from test dataset: 49 %\n"
     ]
    }
   ],
   "source": [
    "success = 0\n",
    "counter = 0\n",
    "with torch.no_grad():\n",
    "    for data in testloader:\n",
    "        im, ground_truth = data\n",
    "        op = lenet_cached(im)\n",
    "        _, pred = torch.max(op.data, 1)\n",
    "        counter += ground_truth.size(0)\n",
    "        success += (pred == ground_truth).sum().item()\n",
    "print('Model accuracy on 10000 images from test dataset: %d %%'% (100 * success / counter))"
   ]
  },
  {
   "cell_type": "code",
   "execution_count": 33,
   "id": "10f17090-dc9a-4fa9-9150-88fd89775933",
   "metadata": {},
   "outputs": [
    {
     "name": "stdout",
     "output_type": "stream",
     "text": [
      "Model accuracy for class plane : 46 %\n",
      "Model accuracy for class   car : 73 %\n",
      "Model accuracy for class  bird : 35 %\n",
      "Model accuracy for class   cat : 48 %\n",
      "Model accuracy for class  deer : 46 %\n",
      "Model accuracy for class   dog : 26 %\n",
      "Model accuracy for class  frog : 51 %\n",
      "Model accuracy for class horse : 56 %\n",
      "Model accuracy for class  ship : 60 %\n",
      "Model accuracy for class truck : 51 %\n"
     ]
    }
   ],
   "source": [
    "class_sucess = list(0. for i in range(10))\n",
    "class_counter = list(0. for i in range(10))\n",
    "with torch.no_grad():\n",
    "    for data in testloader:\n",
    "        im, ground_truth = data\n",
    "        op = lenet_cached(im)\n",
    "        _, pred = torch.max(op, 1)\n",
    "        c = (pred == ground_truth).squeeze()\n",
    "        for i in range(10000):\n",
    "            ground_truth_curr = ground_truth[i]\n",
    "            class_sucess[ground_truth_curr] += c[i].item()\n",
    "            class_counter[ground_truth_curr] += 1\n",
    "for i in range(10):\n",
    "    print('Model accuracy for class %5s : %2d %%' % (\n",
    "        classes[i], 100 * class_sucess[i] / class_counter[i]))"
   ]
  },
  {
   "cell_type": "code",
   "execution_count": null,
   "id": "f9547d03-fd61-4456-9c40-04f74ac14245",
   "metadata": {},
   "outputs": [],
   "source": []
  }
 ],
 "metadata": {
  "kernelspec": {
   "display_name": "Python 3 (ipykernel)",
   "language": "python",
   "name": "python3"
  },
  "language_info": {
   "codemirror_mode": {
    "name": "ipython",
    "version": 3
   },
   "file_extension": ".py",
   "mimetype": "text/x-python",
   "name": "python",
   "nbconvert_exporter": "python",
   "pygments_lexer": "ipython3",
   "version": "3.11.5"
  }
 },
 "nbformat": 4,
 "nbformat_minor": 5
}
